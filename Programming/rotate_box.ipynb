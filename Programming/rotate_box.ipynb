{
  "nbformat": 4,
  "nbformat_minor": 0,
  "metadata": {
    "colab": {
      "name": "rotate_box.ipynb",
      "provenance": []
    },
    "kernelspec": {
      "name": "python3",
      "display_name": "Python 3"
    }
  },
  "cells": [
    {
      "cell_type": "code",
      "metadata": {
        "colab": {
          "base_uri": "https://localhost:8080/"
        },
        "id": "A2UoNfMvaRA0",
        "outputId": "73950751-8adf-4061-95ae-33d73e509468"
      },
      "source": [
        "x = input()\n",
        "y = list(map(int, input().split()))\n",
        "z = input()\n",
        "print(x, len(y), z)"
      ],
      "execution_count": 1,
      "outputs": [
        {
          "output_type": "stream",
          "text": [
            "6\n",
            "2 2 1 3 1 1\n",
            "1\n",
            "6 6 1\n"
          ],
          "name": "stdout"
        }
      ]
    }
  ]
}

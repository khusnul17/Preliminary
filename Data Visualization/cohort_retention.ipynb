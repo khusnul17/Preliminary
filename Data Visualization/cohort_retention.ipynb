{
  "nbformat": 4,
  "nbformat_minor": 0,
  "metadata": {
    "colab": {
      "name": "cohort_retention.ipynb",
      "provenance": []
    },
    "kernelspec": {
      "name": "python3",
      "display_name": "Python 3"
    }
  },
  "cells": [
    {
      "cell_type": "code",
      "metadata": {
        "id": "qpyddPUL4MlT"
      },
      "source": [
        "import pandas as pd\n",
        "import numpy as np\n",
        "import matplotlib.pyplot as plt\n",
        "import matplotlib as mpl\n",
        "pd.set_option('max_columns', 50)\n",
        "mpl.rcParams['lines.linewidth'] = 2\n",
        "\n",
        "%matplotlib inline"
      ],
      "execution_count": 15,
      "outputs": []
    },
    {
      "cell_type": "code",
      "metadata": {
        "id": "RH70-vs34MaG",
        "colab": {
          "base_uri": "https://localhost:8080/",
          "height": 356
        },
        "outputId": "5fe0d064-1276-487c-ed99-7ebccd6cf238"
      },
      "source": [
        "# Input Data \n",
        "data_vis = pd.read_csv(\"dataset.csv\",encoding='latin1')\n",
        "data_vis.tail(10)"
      ],
      "execution_count": 16,
      "outputs": [
        {
          "output_type": "execute_result",
          "data": {
            "text/html": [
              "<div>\n",
              "<style scoped>\n",
              "    .dataframe tbody tr th:only-of-type {\n",
              "        vertical-align: middle;\n",
              "    }\n",
              "\n",
              "    .dataframe tbody tr th {\n",
              "        vertical-align: top;\n",
              "    }\n",
              "\n",
              "    .dataframe thead th {\n",
              "        text-align: right;\n",
              "    }\n",
              "</style>\n",
              "<table border=\"1\" class=\"dataframe\">\n",
              "  <thead>\n",
              "    <tr style=\"text-align: right;\">\n",
              "      <th></th>\n",
              "      <th>id</th>\n",
              "      <th>order_date</th>\n",
              "      <th>user_id</th>\n",
              "    </tr>\n",
              "  </thead>\n",
              "  <tbody>\n",
              "    <tr>\n",
              "      <th>192903</th>\n",
              "      <td>326827</td>\n",
              "      <td>2019-12-27</td>\n",
              "      <td>133329</td>\n",
              "    </tr>\n",
              "    <tr>\n",
              "      <th>192904</th>\n",
              "      <td>326828</td>\n",
              "      <td>2019-12-27</td>\n",
              "      <td>133329</td>\n",
              "    </tr>\n",
              "    <tr>\n",
              "      <th>192905</th>\n",
              "      <td>326829</td>\n",
              "      <td>2019-12-27</td>\n",
              "      <td>133335</td>\n",
              "    </tr>\n",
              "    <tr>\n",
              "      <th>192906</th>\n",
              "      <td>326830</td>\n",
              "      <td>2019-12-27</td>\n",
              "      <td>115513</td>\n",
              "    </tr>\n",
              "    <tr>\n",
              "      <th>192907</th>\n",
              "      <td>326831</td>\n",
              "      <td>2019-12-27</td>\n",
              "      <td>115513</td>\n",
              "    </tr>\n",
              "    <tr>\n",
              "      <th>192908</th>\n",
              "      <td>326833</td>\n",
              "      <td>2019-12-27</td>\n",
              "      <td>131981</td>\n",
              "    </tr>\n",
              "    <tr>\n",
              "      <th>192909</th>\n",
              "      <td>326834</td>\n",
              "      <td>2019-12-27</td>\n",
              "      <td>54449</td>\n",
              "    </tr>\n",
              "    <tr>\n",
              "      <th>192910</th>\n",
              "      <td>326835</td>\n",
              "      <td>2019-12-27</td>\n",
              "      <td>52375</td>\n",
              "    </tr>\n",
              "    <tr>\n",
              "      <th>192911</th>\n",
              "      <td>326837</td>\n",
              "      <td>2019-12-27</td>\n",
              "      <td>118653</td>\n",
              "    </tr>\n",
              "    <tr>\n",
              "      <th>192912</th>\n",
              "      <td>326838</td>\n",
              "      <td>2019-12-27</td>\n",
              "      <td>133327</td>\n",
              "    </tr>\n",
              "  </tbody>\n",
              "</table>\n",
              "</div>"
            ],
            "text/plain": [
              "            id  order_date  user_id\n",
              "192903  326827  2019-12-27   133329\n",
              "192904  326828  2019-12-27   133329\n",
              "192905  326829  2019-12-27   133335\n",
              "192906  326830  2019-12-27   115513\n",
              "192907  326831  2019-12-27   115513\n",
              "192908  326833  2019-12-27   131981\n",
              "192909  326834  2019-12-27    54449\n",
              "192910  326835  2019-12-27    52375\n",
              "192911  326837  2019-12-27   118653\n",
              "192912  326838  2019-12-27   133327"
            ]
          },
          "metadata": {
            "tags": []
          },
          "execution_count": 16
        }
      ]
    },
    {
      "cell_type": "code",
      "metadata": {
        "id": "UoUFysIKFqs0",
        "colab": {
          "base_uri": "https://localhost:8080/",
          "height": 86
        },
        "outputId": "61350080-681c-47d1-f5b3-22799493cf36"
      },
      "source": [
        "display(data_vis.iloc[96671]) "
      ],
      "execution_count": 17,
      "outputs": [
        {
          "output_type": "display_data",
          "data": {
            "text/plain": [
              "id                225126\n",
              "order_date    2019-07-29\n",
              "user_id            98336\n",
              "Name: 96671, dtype: object"
            ]
          },
          "metadata": {
            "tags": []
          }
        }
      ]
    },
    {
      "cell_type": "code",
      "metadata": {
        "id": "FVrUPsJj5cz8",
        "colab": {
          "base_uri": "https://localhost:8080/",
          "height": 416
        },
        "outputId": "ed186439-ae87-40fe-bb27-a5db9402910a"
      },
      "source": [
        "data_vis['order_period'] = pd.to_datetime(arg=data_vis['order_date'], \n",
        "                                   format='%Y-%m-%d')\n",
        "data_vis['order_period'] = data_vis['order_period'].apply(lambda x: x.strftime('%Y-%m'))\n",
        "data_vis\n"
      ],
      "execution_count": 18,
      "outputs": [
        {
          "output_type": "execute_result",
          "data": {
            "text/html": [
              "<div>\n",
              "<style scoped>\n",
              "    .dataframe tbody tr th:only-of-type {\n",
              "        vertical-align: middle;\n",
              "    }\n",
              "\n",
              "    .dataframe tbody tr th {\n",
              "        vertical-align: top;\n",
              "    }\n",
              "\n",
              "    .dataframe thead th {\n",
              "        text-align: right;\n",
              "    }\n",
              "</style>\n",
              "<table border=\"1\" class=\"dataframe\">\n",
              "  <thead>\n",
              "    <tr style=\"text-align: right;\">\n",
              "      <th></th>\n",
              "      <th>id</th>\n",
              "      <th>order_date</th>\n",
              "      <th>user_id</th>\n",
              "      <th>order_period</th>\n",
              "    </tr>\n",
              "  </thead>\n",
              "  <tbody>\n",
              "    <tr>\n",
              "      <th>0</th>\n",
              "      <td>114363</td>\n",
              "      <td>2019-01-01</td>\n",
              "      <td>53424</td>\n",
              "      <td>2019-01</td>\n",
              "    </tr>\n",
              "    <tr>\n",
              "      <th>1</th>\n",
              "      <td>114364</td>\n",
              "      <td>2019-01-01</td>\n",
              "      <td>77226</td>\n",
              "      <td>2019-01</td>\n",
              "    </tr>\n",
              "    <tr>\n",
              "      <th>2</th>\n",
              "      <td>114366</td>\n",
              "      <td>2019-01-01</td>\n",
              "      <td>67632</td>\n",
              "      <td>2019-01</td>\n",
              "    </tr>\n",
              "    <tr>\n",
              "      <th>3</th>\n",
              "      <td>114369</td>\n",
              "      <td>2019-01-01</td>\n",
              "      <td>63167</td>\n",
              "      <td>2019-01</td>\n",
              "    </tr>\n",
              "    <tr>\n",
              "      <th>4</th>\n",
              "      <td>114370</td>\n",
              "      <td>2019-01-01</td>\n",
              "      <td>32047</td>\n",
              "      <td>2019-01</td>\n",
              "    </tr>\n",
              "    <tr>\n",
              "      <th>...</th>\n",
              "      <td>...</td>\n",
              "      <td>...</td>\n",
              "      <td>...</td>\n",
              "      <td>...</td>\n",
              "    </tr>\n",
              "    <tr>\n",
              "      <th>192908</th>\n",
              "      <td>326833</td>\n",
              "      <td>2019-12-27</td>\n",
              "      <td>131981</td>\n",
              "      <td>2019-12</td>\n",
              "    </tr>\n",
              "    <tr>\n",
              "      <th>192909</th>\n",
              "      <td>326834</td>\n",
              "      <td>2019-12-27</td>\n",
              "      <td>54449</td>\n",
              "      <td>2019-12</td>\n",
              "    </tr>\n",
              "    <tr>\n",
              "      <th>192910</th>\n",
              "      <td>326835</td>\n",
              "      <td>2019-12-27</td>\n",
              "      <td>52375</td>\n",
              "      <td>2019-12</td>\n",
              "    </tr>\n",
              "    <tr>\n",
              "      <th>192911</th>\n",
              "      <td>326837</td>\n",
              "      <td>2019-12-27</td>\n",
              "      <td>118653</td>\n",
              "      <td>2019-12</td>\n",
              "    </tr>\n",
              "    <tr>\n",
              "      <th>192912</th>\n",
              "      <td>326838</td>\n",
              "      <td>2019-12-27</td>\n",
              "      <td>133327</td>\n",
              "      <td>2019-12</td>\n",
              "    </tr>\n",
              "  </tbody>\n",
              "</table>\n",
              "<p>192913 rows × 4 columns</p>\n",
              "</div>"
            ],
            "text/plain": [
              "            id  order_date  user_id order_period\n",
              "0       114363  2019-01-01    53424      2019-01\n",
              "1       114364  2019-01-01    77226      2019-01\n",
              "2       114366  2019-01-01    67632      2019-01\n",
              "3       114369  2019-01-01    63167      2019-01\n",
              "4       114370  2019-01-01    32047      2019-01\n",
              "...        ...         ...      ...          ...\n",
              "192908  326833  2019-12-27   131981      2019-12\n",
              "192909  326834  2019-12-27    54449      2019-12\n",
              "192910  326835  2019-12-27    52375      2019-12\n",
              "192911  326837  2019-12-27   118653      2019-12\n",
              "192912  326838  2019-12-27   133327      2019-12\n",
              "\n",
              "[192913 rows x 4 columns]"
            ]
          },
          "metadata": {
            "tags": []
          },
          "execution_count": 18
        }
      ]
    },
    {
      "cell_type": "code",
      "metadata": {
        "id": "a51_QjavIrBx",
        "colab": {
          "base_uri": "https://localhost:8080/",
          "height": 202
        },
        "outputId": "1bc93067-0d33-4784-f59b-6306bed1ea35"
      },
      "source": [
        "data_vis.set_index('user_id', inplace=True)\n",
        "data_vis['cohort_group'] = pd.to_datetime(arg=data_vis['order_date'], \n",
        "                                   format='%Y-%m-%d')\n",
        "data_vis['cohort_group'] = data_vis.groupby(level=0)['cohort_group'].min().apply(lambda x: x.strftime('%Y-%m'))\n",
        "data_vis.reset_index(inplace=True)\n",
        "data_vis.head()"
      ],
      "execution_count": 19,
      "outputs": [
        {
          "output_type": "execute_result",
          "data": {
            "text/html": [
              "<div>\n",
              "<style scoped>\n",
              "    .dataframe tbody tr th:only-of-type {\n",
              "        vertical-align: middle;\n",
              "    }\n",
              "\n",
              "    .dataframe tbody tr th {\n",
              "        vertical-align: top;\n",
              "    }\n",
              "\n",
              "    .dataframe thead th {\n",
              "        text-align: right;\n",
              "    }\n",
              "</style>\n",
              "<table border=\"1\" class=\"dataframe\">\n",
              "  <thead>\n",
              "    <tr style=\"text-align: right;\">\n",
              "      <th></th>\n",
              "      <th>user_id</th>\n",
              "      <th>id</th>\n",
              "      <th>order_date</th>\n",
              "      <th>order_period</th>\n",
              "      <th>cohort_group</th>\n",
              "    </tr>\n",
              "  </thead>\n",
              "  <tbody>\n",
              "    <tr>\n",
              "      <th>0</th>\n",
              "      <td>53424</td>\n",
              "      <td>114363</td>\n",
              "      <td>2019-01-01</td>\n",
              "      <td>2019-01</td>\n",
              "      <td>2019-01</td>\n",
              "    </tr>\n",
              "    <tr>\n",
              "      <th>1</th>\n",
              "      <td>77226</td>\n",
              "      <td>114364</td>\n",
              "      <td>2019-01-01</td>\n",
              "      <td>2019-01</td>\n",
              "      <td>2019-01</td>\n",
              "    </tr>\n",
              "    <tr>\n",
              "      <th>2</th>\n",
              "      <td>67632</td>\n",
              "      <td>114366</td>\n",
              "      <td>2019-01-01</td>\n",
              "      <td>2019-01</td>\n",
              "      <td>2019-01</td>\n",
              "    </tr>\n",
              "    <tr>\n",
              "      <th>3</th>\n",
              "      <td>63167</td>\n",
              "      <td>114369</td>\n",
              "      <td>2019-01-01</td>\n",
              "      <td>2019-01</td>\n",
              "      <td>2019-01</td>\n",
              "    </tr>\n",
              "    <tr>\n",
              "      <th>4</th>\n",
              "      <td>32047</td>\n",
              "      <td>114370</td>\n",
              "      <td>2019-01-01</td>\n",
              "      <td>2019-01</td>\n",
              "      <td>2019-01</td>\n",
              "    </tr>\n",
              "  </tbody>\n",
              "</table>\n",
              "</div>"
            ],
            "text/plain": [
              "   user_id      id  order_date order_period cohort_group\n",
              "0    53424  114363  2019-01-01      2019-01      2019-01\n",
              "1    77226  114364  2019-01-01      2019-01      2019-01\n",
              "2    67632  114366  2019-01-01      2019-01      2019-01\n",
              "3    63167  114369  2019-01-01      2019-01      2019-01\n",
              "4    32047  114370  2019-01-01      2019-01      2019-01"
            ]
          },
          "metadata": {
            "tags": []
          },
          "execution_count": 19
        }
      ]
    },
    {
      "cell_type": "code",
      "metadata": {
        "id": "pI_vqafRXZNz",
        "colab": {
          "base_uri": "https://localhost:8080/",
          "height": 233
        },
        "outputId": "c9e9cf08-1934-47bf-ce61-d493bceac499"
      },
      "source": [
        "grouped = data_vis.groupby(['cohort_group', 'order_period'])\n",
        "\n",
        "# count the unique users\n",
        "cohorts = grouped.agg({'user_id': pd.Series.nunique})\n",
        "\n",
        "# make the column names more meaningful\n",
        "cohorts.rename(columns={'user_id': 'TotalUsers'}, inplace=True)\n",
        "cohorts.head()"
      ],
      "execution_count": 20,
      "outputs": [
        {
          "output_type": "execute_result",
          "data": {
            "text/html": [
              "<div>\n",
              "<style scoped>\n",
              "    .dataframe tbody tr th:only-of-type {\n",
              "        vertical-align: middle;\n",
              "    }\n",
              "\n",
              "    .dataframe tbody tr th {\n",
              "        vertical-align: top;\n",
              "    }\n",
              "\n",
              "    .dataframe thead th {\n",
              "        text-align: right;\n",
              "    }\n",
              "</style>\n",
              "<table border=\"1\" class=\"dataframe\">\n",
              "  <thead>\n",
              "    <tr style=\"text-align: right;\">\n",
              "      <th></th>\n",
              "      <th></th>\n",
              "      <th>TotalUsers</th>\n",
              "    </tr>\n",
              "    <tr>\n",
              "      <th>cohort_group</th>\n",
              "      <th>order_period</th>\n",
              "      <th></th>\n",
              "    </tr>\n",
              "  </thead>\n",
              "  <tbody>\n",
              "    <tr>\n",
              "      <th rowspan=\"5\" valign=\"top\">2019-01</th>\n",
              "      <th>2019-01</th>\n",
              "      <td>4520</td>\n",
              "    </tr>\n",
              "    <tr>\n",
              "      <th>2019-02</th>\n",
              "      <td>2093</td>\n",
              "    </tr>\n",
              "    <tr>\n",
              "      <th>2019-03</th>\n",
              "      <td>1673</td>\n",
              "    </tr>\n",
              "    <tr>\n",
              "      <th>2019-04</th>\n",
              "      <td>1342</td>\n",
              "    </tr>\n",
              "    <tr>\n",
              "      <th>2019-05</th>\n",
              "      <td>1066</td>\n",
              "    </tr>\n",
              "  </tbody>\n",
              "</table>\n",
              "</div>"
            ],
            "text/plain": [
              "                           TotalUsers\n",
              "cohort_group order_period            \n",
              "2019-01      2019-01             4520\n",
              "             2019-02             2093\n",
              "             2019-03             1673\n",
              "             2019-04             1342\n",
              "             2019-05             1066"
            ]
          },
          "metadata": {
            "tags": []
          },
          "execution_count": 20
        }
      ]
    },
    {
      "cell_type": "code",
      "metadata": {
        "id": "q-l12GVwf3rv",
        "colab": {
          "base_uri": "https://localhost:8080/",
          "height": 233
        },
        "outputId": "200a4c5d-0cb0-4207-ecb9-1b642a6b4c69"
      },
      "source": [
        "def cohort_period(data_vis):\n",
        "    data_vis['Cohort_period'] = np.arange(len(data_vis)) + 1\n",
        "    return data_vis\n",
        "\n",
        "cohorts = cohorts.groupby(level=0).apply(cohort_period)\n",
        "cohorts.head()"
      ],
      "execution_count": 21,
      "outputs": [
        {
          "output_type": "execute_result",
          "data": {
            "text/html": [
              "<div>\n",
              "<style scoped>\n",
              "    .dataframe tbody tr th:only-of-type {\n",
              "        vertical-align: middle;\n",
              "    }\n",
              "\n",
              "    .dataframe tbody tr th {\n",
              "        vertical-align: top;\n",
              "    }\n",
              "\n",
              "    .dataframe thead th {\n",
              "        text-align: right;\n",
              "    }\n",
              "</style>\n",
              "<table border=\"1\" class=\"dataframe\">\n",
              "  <thead>\n",
              "    <tr style=\"text-align: right;\">\n",
              "      <th></th>\n",
              "      <th></th>\n",
              "      <th>TotalUsers</th>\n",
              "      <th>Cohort_period</th>\n",
              "    </tr>\n",
              "    <tr>\n",
              "      <th>cohort_group</th>\n",
              "      <th>order_period</th>\n",
              "      <th></th>\n",
              "      <th></th>\n",
              "    </tr>\n",
              "  </thead>\n",
              "  <tbody>\n",
              "    <tr>\n",
              "      <th rowspan=\"5\" valign=\"top\">2019-01</th>\n",
              "      <th>2019-01</th>\n",
              "      <td>4520</td>\n",
              "      <td>1</td>\n",
              "    </tr>\n",
              "    <tr>\n",
              "      <th>2019-02</th>\n",
              "      <td>2093</td>\n",
              "      <td>2</td>\n",
              "    </tr>\n",
              "    <tr>\n",
              "      <th>2019-03</th>\n",
              "      <td>1673</td>\n",
              "      <td>3</td>\n",
              "    </tr>\n",
              "    <tr>\n",
              "      <th>2019-04</th>\n",
              "      <td>1342</td>\n",
              "      <td>4</td>\n",
              "    </tr>\n",
              "    <tr>\n",
              "      <th>2019-05</th>\n",
              "      <td>1066</td>\n",
              "      <td>5</td>\n",
              "    </tr>\n",
              "  </tbody>\n",
              "</table>\n",
              "</div>"
            ],
            "text/plain": [
              "                           TotalUsers  Cohort_period\n",
              "cohort_group order_period                           \n",
              "2019-01      2019-01             4520              1\n",
              "             2019-02             2093              2\n",
              "             2019-03             1673              3\n",
              "             2019-04             1342              4\n",
              "             2019-05             1066              5"
            ]
          },
          "metadata": {
            "tags": []
          },
          "execution_count": 21
        }
      ]
    },
    {
      "cell_type": "code",
      "metadata": {
        "id": "dYBIHMdchC8K",
        "colab": {
          "base_uri": "https://localhost:8080/"
        },
        "outputId": "8c02d85b-9dbc-4a56-d143-10a7a077939a"
      },
      "source": [
        "# reindex the DataFrame\n",
        "cohorts.reset_index(inplace=True)\n",
        "cohorts.set_index(['cohort_group', 'Cohort_period'], inplace=True)\n",
        "\n",
        "# create a Series holding the total size of each CohortGroup\n",
        "cohort_group_size = cohorts['TotalUsers'].groupby(level=0).first()\n",
        "cohort_group_size.head()"
      ],
      "execution_count": 22,
      "outputs": [
        {
          "output_type": "execute_result",
          "data": {
            "text/plain": [
              "cohort_group\n",
              "2019-01    4520\n",
              "2019-02    2466\n",
              "2019-03    2662\n",
              "2019-04    2074\n",
              "2019-05    2616\n",
              "Name: TotalUsers, dtype: int64"
            ]
          },
          "metadata": {
            "tags": []
          },
          "execution_count": 22
        }
      ]
    },
    {
      "cell_type": "code",
      "metadata": {
        "id": "1mRoNB4Mkh4Q",
        "colab": {
          "base_uri": "https://localhost:8080/"
        },
        "outputId": "6bc1e3c9-a1a6-421a-bfd8-aae2ed176385"
      },
      "source": [
        "cohorts['TotalUsers'].head()"
      ],
      "execution_count": 23,
      "outputs": [
        {
          "output_type": "execute_result",
          "data": {
            "text/plain": [
              "cohort_group  Cohort_period\n",
              "2019-01       1                4520\n",
              "              2                2093\n",
              "              3                1673\n",
              "              4                1342\n",
              "              5                1066\n",
              "Name: TotalUsers, dtype: int64"
            ]
          },
          "metadata": {
            "tags": []
          },
          "execution_count": 23
        }
      ]
    },
    {
      "cell_type": "code",
      "metadata": {
        "id": "M_ec7R5QkqaN",
        "colab": {
          "base_uri": "https://localhost:8080/",
          "height": 233
        },
        "outputId": "87ab9119-83d5-4481-aa18-0aff7cc90922"
      },
      "source": [
        "cohorts['TotalUsers'].unstack(0).head()"
      ],
      "execution_count": 24,
      "outputs": [
        {
          "output_type": "execute_result",
          "data": {
            "text/html": [
              "<div>\n",
              "<style scoped>\n",
              "    .dataframe tbody tr th:only-of-type {\n",
              "        vertical-align: middle;\n",
              "    }\n",
              "\n",
              "    .dataframe tbody tr th {\n",
              "        vertical-align: top;\n",
              "    }\n",
              "\n",
              "    .dataframe thead th {\n",
              "        text-align: right;\n",
              "    }\n",
              "</style>\n",
              "<table border=\"1\" class=\"dataframe\">\n",
              "  <thead>\n",
              "    <tr style=\"text-align: right;\">\n",
              "      <th>cohort_group</th>\n",
              "      <th>2019-01</th>\n",
              "      <th>2019-02</th>\n",
              "      <th>2019-03</th>\n",
              "      <th>2019-04</th>\n",
              "      <th>2019-05</th>\n",
              "      <th>2019-06</th>\n",
              "      <th>2019-07</th>\n",
              "      <th>2019-08</th>\n",
              "      <th>2019-09</th>\n",
              "      <th>2019-10</th>\n",
              "      <th>2019-11</th>\n",
              "      <th>2019-12</th>\n",
              "    </tr>\n",
              "    <tr>\n",
              "      <th>Cohort_period</th>\n",
              "      <th></th>\n",
              "      <th></th>\n",
              "      <th></th>\n",
              "      <th></th>\n",
              "      <th></th>\n",
              "      <th></th>\n",
              "      <th></th>\n",
              "      <th></th>\n",
              "      <th></th>\n",
              "      <th></th>\n",
              "      <th></th>\n",
              "      <th></th>\n",
              "    </tr>\n",
              "  </thead>\n",
              "  <tbody>\n",
              "    <tr>\n",
              "      <th>1</th>\n",
              "      <td>4520.0</td>\n",
              "      <td>2466.0</td>\n",
              "      <td>2662.0</td>\n",
              "      <td>2074.0</td>\n",
              "      <td>2616.0</td>\n",
              "      <td>2802.0</td>\n",
              "      <td>3234.0</td>\n",
              "      <td>2080.0</td>\n",
              "      <td>1697.0</td>\n",
              "      <td>1622.0</td>\n",
              "      <td>1442.0</td>\n",
              "      <td>916.0</td>\n",
              "    </tr>\n",
              "    <tr>\n",
              "      <th>2</th>\n",
              "      <td>2093.0</td>\n",
              "      <td>1024.0</td>\n",
              "      <td>927.0</td>\n",
              "      <td>709.0</td>\n",
              "      <td>786.0</td>\n",
              "      <td>1200.0</td>\n",
              "      <td>1356.0</td>\n",
              "      <td>874.0</td>\n",
              "      <td>675.0</td>\n",
              "      <td>633.0</td>\n",
              "      <td>527.0</td>\n",
              "      <td>NaN</td>\n",
              "    </tr>\n",
              "    <tr>\n",
              "      <th>3</th>\n",
              "      <td>1673.0</td>\n",
              "      <td>611.0</td>\n",
              "      <td>588.0</td>\n",
              "      <td>541.0</td>\n",
              "      <td>560.0</td>\n",
              "      <td>667.0</td>\n",
              "      <td>902.0</td>\n",
              "      <td>602.0</td>\n",
              "      <td>473.0</td>\n",
              "      <td>405.0</td>\n",
              "      <td>NaN</td>\n",
              "      <td>NaN</td>\n",
              "    </tr>\n",
              "    <tr>\n",
              "      <th>4</th>\n",
              "      <td>1342.0</td>\n",
              "      <td>483.0</td>\n",
              "      <td>558.0</td>\n",
              "      <td>477.0</td>\n",
              "      <td>368.0</td>\n",
              "      <td>492.0</td>\n",
              "      <td>729.0</td>\n",
              "      <td>476.0</td>\n",
              "      <td>358.0</td>\n",
              "      <td>NaN</td>\n",
              "      <td>NaN</td>\n",
              "      <td>NaN</td>\n",
              "    </tr>\n",
              "    <tr>\n",
              "      <th>5</th>\n",
              "      <td>1066.0</td>\n",
              "      <td>494.0</td>\n",
              "      <td>518.0</td>\n",
              "      <td>333.0</td>\n",
              "      <td>292.0</td>\n",
              "      <td>428.0</td>\n",
              "      <td>610.0</td>\n",
              "      <td>395.0</td>\n",
              "      <td>NaN</td>\n",
              "      <td>NaN</td>\n",
              "      <td>NaN</td>\n",
              "      <td>NaN</td>\n",
              "    </tr>\n",
              "  </tbody>\n",
              "</table>\n",
              "</div>"
            ],
            "text/plain": [
              "cohort_group   2019-01  2019-02  2019-03  2019-04  2019-05  2019-06  2019-07  \\\n",
              "Cohort_period                                                                  \n",
              "1               4520.0   2466.0   2662.0   2074.0   2616.0   2802.0   3234.0   \n",
              "2               2093.0   1024.0    927.0    709.0    786.0   1200.0   1356.0   \n",
              "3               1673.0    611.0    588.0    541.0    560.0    667.0    902.0   \n",
              "4               1342.0    483.0    558.0    477.0    368.0    492.0    729.0   \n",
              "5               1066.0    494.0    518.0    333.0    292.0    428.0    610.0   \n",
              "\n",
              "cohort_group   2019-08  2019-09  2019-10  2019-11  2019-12  \n",
              "Cohort_period                                               \n",
              "1               2080.0   1697.0   1622.0   1442.0    916.0  \n",
              "2                874.0    675.0    633.0    527.0      NaN  \n",
              "3                602.0    473.0    405.0      NaN      NaN  \n",
              "4                476.0    358.0      NaN      NaN      NaN  \n",
              "5                395.0      NaN      NaN      NaN      NaN  "
            ]
          },
          "metadata": {
            "tags": []
          },
          "execution_count": 24
        }
      ]
    },
    {
      "cell_type": "code",
      "metadata": {
        "id": "91GBEVd8lQFt",
        "colab": {
          "base_uri": "https://localhost:8080/",
          "height": 386
        },
        "outputId": "f85de138-a77d-4ff6-f747-21603bfa1d78"
      },
      "source": [
        "user_retention = cohorts['TotalUsers'].unstack(0).divide(cohort_group_size, axis=1)\n",
        "user_retention.head(10)"
      ],
      "execution_count": 25,
      "outputs": [
        {
          "output_type": "execute_result",
          "data": {
            "text/html": [
              "<div>\n",
              "<style scoped>\n",
              "    .dataframe tbody tr th:only-of-type {\n",
              "        vertical-align: middle;\n",
              "    }\n",
              "\n",
              "    .dataframe tbody tr th {\n",
              "        vertical-align: top;\n",
              "    }\n",
              "\n",
              "    .dataframe thead th {\n",
              "        text-align: right;\n",
              "    }\n",
              "</style>\n",
              "<table border=\"1\" class=\"dataframe\">\n",
              "  <thead>\n",
              "    <tr style=\"text-align: right;\">\n",
              "      <th>cohort_group</th>\n",
              "      <th>2019-01</th>\n",
              "      <th>2019-02</th>\n",
              "      <th>2019-03</th>\n",
              "      <th>2019-04</th>\n",
              "      <th>2019-05</th>\n",
              "      <th>2019-06</th>\n",
              "      <th>2019-07</th>\n",
              "      <th>2019-08</th>\n",
              "      <th>2019-09</th>\n",
              "      <th>2019-10</th>\n",
              "      <th>2019-11</th>\n",
              "      <th>2019-12</th>\n",
              "    </tr>\n",
              "    <tr>\n",
              "      <th>Cohort_period</th>\n",
              "      <th></th>\n",
              "      <th></th>\n",
              "      <th></th>\n",
              "      <th></th>\n",
              "      <th></th>\n",
              "      <th></th>\n",
              "      <th></th>\n",
              "      <th></th>\n",
              "      <th></th>\n",
              "      <th></th>\n",
              "      <th></th>\n",
              "      <th></th>\n",
              "    </tr>\n",
              "  </thead>\n",
              "  <tbody>\n",
              "    <tr>\n",
              "      <th>1</th>\n",
              "      <td>1.000000</td>\n",
              "      <td>1.000000</td>\n",
              "      <td>1.000000</td>\n",
              "      <td>1.000000</td>\n",
              "      <td>1.000000</td>\n",
              "      <td>1.000000</td>\n",
              "      <td>1.000000</td>\n",
              "      <td>1.000000</td>\n",
              "      <td>1.000000</td>\n",
              "      <td>1.000000</td>\n",
              "      <td>1.000000</td>\n",
              "      <td>1.0</td>\n",
              "    </tr>\n",
              "    <tr>\n",
              "      <th>2</th>\n",
              "      <td>0.463053</td>\n",
              "      <td>0.415247</td>\n",
              "      <td>0.348234</td>\n",
              "      <td>0.341851</td>\n",
              "      <td>0.300459</td>\n",
              "      <td>0.428266</td>\n",
              "      <td>0.419295</td>\n",
              "      <td>0.420192</td>\n",
              "      <td>0.397761</td>\n",
              "      <td>0.390259</td>\n",
              "      <td>0.365465</td>\n",
              "      <td>NaN</td>\n",
              "    </tr>\n",
              "    <tr>\n",
              "      <th>3</th>\n",
              "      <td>0.370133</td>\n",
              "      <td>0.247770</td>\n",
              "      <td>0.220887</td>\n",
              "      <td>0.260849</td>\n",
              "      <td>0.214067</td>\n",
              "      <td>0.238044</td>\n",
              "      <td>0.278912</td>\n",
              "      <td>0.289423</td>\n",
              "      <td>0.278727</td>\n",
              "      <td>0.249692</td>\n",
              "      <td>NaN</td>\n",
              "      <td>NaN</td>\n",
              "    </tr>\n",
              "    <tr>\n",
              "      <th>4</th>\n",
              "      <td>0.296903</td>\n",
              "      <td>0.195864</td>\n",
              "      <td>0.209617</td>\n",
              "      <td>0.229990</td>\n",
              "      <td>0.140673</td>\n",
              "      <td>0.175589</td>\n",
              "      <td>0.225417</td>\n",
              "      <td>0.228846</td>\n",
              "      <td>0.210961</td>\n",
              "      <td>NaN</td>\n",
              "      <td>NaN</td>\n",
              "      <td>NaN</td>\n",
              "    </tr>\n",
              "    <tr>\n",
              "      <th>5</th>\n",
              "      <td>0.235841</td>\n",
              "      <td>0.200324</td>\n",
              "      <td>0.194591</td>\n",
              "      <td>0.160559</td>\n",
              "      <td>0.111621</td>\n",
              "      <td>0.152748</td>\n",
              "      <td>0.188621</td>\n",
              "      <td>0.189904</td>\n",
              "      <td>NaN</td>\n",
              "      <td>NaN</td>\n",
              "      <td>NaN</td>\n",
              "      <td>NaN</td>\n",
              "    </tr>\n",
              "    <tr>\n",
              "      <th>6</th>\n",
              "      <td>0.265708</td>\n",
              "      <td>0.188159</td>\n",
              "      <td>0.143877</td>\n",
              "      <td>0.127290</td>\n",
              "      <td>0.094801</td>\n",
              "      <td>0.133476</td>\n",
              "      <td>0.150588</td>\n",
              "      <td>NaN</td>\n",
              "      <td>NaN</td>\n",
              "      <td>NaN</td>\n",
              "      <td>NaN</td>\n",
              "      <td>NaN</td>\n",
              "    </tr>\n",
              "    <tr>\n",
              "      <th>7</th>\n",
              "      <td>0.258407</td>\n",
              "      <td>0.140714</td>\n",
              "      <td>0.123967</td>\n",
              "      <td>0.112343</td>\n",
              "      <td>0.074541</td>\n",
              "      <td>0.105282</td>\n",
              "      <td>NaN</td>\n",
              "      <td>NaN</td>\n",
              "      <td>NaN</td>\n",
              "      <td>NaN</td>\n",
              "      <td>NaN</td>\n",
              "      <td>NaN</td>\n",
              "    </tr>\n",
              "    <tr>\n",
              "      <th>8</th>\n",
              "      <td>0.202876</td>\n",
              "      <td>0.114761</td>\n",
              "      <td>0.116078</td>\n",
              "      <td>0.098843</td>\n",
              "      <td>0.061544</td>\n",
              "      <td>NaN</td>\n",
              "      <td>NaN</td>\n",
              "      <td>NaN</td>\n",
              "      <td>NaN</td>\n",
              "      <td>NaN</td>\n",
              "      <td>NaN</td>\n",
              "      <td>NaN</td>\n",
              "    </tr>\n",
              "    <tr>\n",
              "      <th>9</th>\n",
              "      <td>0.168805</td>\n",
              "      <td>0.102595</td>\n",
              "      <td>0.097671</td>\n",
              "      <td>0.081003</td>\n",
              "      <td>NaN</td>\n",
              "      <td>NaN</td>\n",
              "      <td>NaN</td>\n",
              "      <td>NaN</td>\n",
              "      <td>NaN</td>\n",
              "      <td>NaN</td>\n",
              "      <td>NaN</td>\n",
              "      <td>NaN</td>\n",
              "    </tr>\n",
              "    <tr>\n",
              "      <th>10</th>\n",
              "      <td>0.144469</td>\n",
              "      <td>0.094079</td>\n",
              "      <td>0.081142</td>\n",
              "      <td>NaN</td>\n",
              "      <td>NaN</td>\n",
              "      <td>NaN</td>\n",
              "      <td>NaN</td>\n",
              "      <td>NaN</td>\n",
              "      <td>NaN</td>\n",
              "      <td>NaN</td>\n",
              "      <td>NaN</td>\n",
              "      <td>NaN</td>\n",
              "    </tr>\n",
              "  </tbody>\n",
              "</table>\n",
              "</div>"
            ],
            "text/plain": [
              "cohort_group    2019-01   2019-02   2019-03   2019-04   2019-05   2019-06  \\\n",
              "Cohort_period                                                               \n",
              "1              1.000000  1.000000  1.000000  1.000000  1.000000  1.000000   \n",
              "2              0.463053  0.415247  0.348234  0.341851  0.300459  0.428266   \n",
              "3              0.370133  0.247770  0.220887  0.260849  0.214067  0.238044   \n",
              "4              0.296903  0.195864  0.209617  0.229990  0.140673  0.175589   \n",
              "5              0.235841  0.200324  0.194591  0.160559  0.111621  0.152748   \n",
              "6              0.265708  0.188159  0.143877  0.127290  0.094801  0.133476   \n",
              "7              0.258407  0.140714  0.123967  0.112343  0.074541  0.105282   \n",
              "8              0.202876  0.114761  0.116078  0.098843  0.061544       NaN   \n",
              "9              0.168805  0.102595  0.097671  0.081003       NaN       NaN   \n",
              "10             0.144469  0.094079  0.081142       NaN       NaN       NaN   \n",
              "\n",
              "cohort_group    2019-07   2019-08   2019-09   2019-10   2019-11  2019-12  \n",
              "Cohort_period                                                             \n",
              "1              1.000000  1.000000  1.000000  1.000000  1.000000      1.0  \n",
              "2              0.419295  0.420192  0.397761  0.390259  0.365465      NaN  \n",
              "3              0.278912  0.289423  0.278727  0.249692       NaN      NaN  \n",
              "4              0.225417  0.228846  0.210961       NaN       NaN      NaN  \n",
              "5              0.188621  0.189904       NaN       NaN       NaN      NaN  \n",
              "6              0.150588       NaN       NaN       NaN       NaN      NaN  \n",
              "7                   NaN       NaN       NaN       NaN       NaN      NaN  \n",
              "8                   NaN       NaN       NaN       NaN       NaN      NaN  \n",
              "9                   NaN       NaN       NaN       NaN       NaN      NaN  \n",
              "10                  NaN       NaN       NaN       NaN       NaN      NaN  "
            ]
          },
          "metadata": {
            "tags": []
          },
          "execution_count": 25
        }
      ]
    },
    {
      "cell_type": "code",
      "metadata": {
        "id": "G6fmA94ulWu6",
        "colab": {
          "base_uri": "https://localhost:8080/",
          "height": 354
        },
        "outputId": "2bc330b2-766e-44d9-9668-9982c0db4f8d"
      },
      "source": [
        "user_retention[['2019-06', '2019-07', '2019-08']].plot(figsize=(10,5))\n",
        "plt.title('Cohorts: User Retention')\n",
        "plt.xticks(np.arange(1, 12.1, 1))\n",
        "plt.xlim(1, 12)\n",
        "plt.ylabel('% of Cohort Purchasing');"
      ],
      "execution_count": 26,
      "outputs": [
        {
          "output_type": "display_data",
          "data": {
            "image/png": "[encoded data removed]",
            "text/plain": [
              "<Figure size 720x360 with 1 Axes>"
            ]
          },
          "metadata": {
            "tags": [],
            "needs_background": "light"
          }
        }
      ]
    },
    {
      "cell_type": "code",
      "metadata": {
        "id": "E5tLY4JWlqjq",
        "colab": {
          "base_uri": "https://localhost:8080/",
          "height": 518
        },
        "outputId": "a4756e41-4f51-48fe-88cc-6dd0cde2cdd1"
      },
      "source": [
        "import seaborn as sns\n",
        "sns.set(style='white')\n",
        "\n",
        "plt.figure(figsize=(12, 8))\n",
        "plt.title('Cohorts: User Retention')\n",
        "sns.heatmap(user_retention.T, mask=user_retention.T.isnull(), annot=True, fmt='.0%');"
      ],
      "execution_count": 27,
      "outputs": [
        {
          "output_type": "display_data",
          "data": {
            "image/png": "[encoded data removed]",
            "text/plain": [
              "<Figure size 864x576 with 2 Axes>"
            ]
          },
          "metadata": {
            "tags": []
          }
        }
      ]
    }
  ]
}
